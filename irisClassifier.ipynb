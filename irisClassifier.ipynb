{
  "nbformat": 4,
  "nbformat_minor": 0,
  "metadata": {
    "colab": {
      "name": "irisClassifier.ipynb",
      "provenance": [],
      "authorship_tag": "ABX9TyM/oLjzDndhSpqjfU9lGgz5"
    },
    "kernelspec": {
      "name": "python3",
      "display_name": "Python 3"
    }
  },
  "cells": [
    {
      "cell_type": "code",
      "metadata": {
        "id": "94sgFhbx9v4N"
      },
      "source": [
        "#import the data set\n",
        "from sklearn.datasets import load_iris\n",
        "import numpy as np\n",
        "from sklearn import tree\n"
      ],
      "execution_count": null,
      "outputs": []
    },
    {
      "cell_type": "code",
      "metadata": {
        "id": "jkw_UgqI97mW"
      },
      "source": [
        "iris = load_iris()"
      ],
      "execution_count": null,
      "outputs": []
    },
    {
      "cell_type": "code",
      "metadata": {
        "colab": {
          "base_uri": "https://localhost:8080/"
        },
        "id": "c-6SU5xU9_iF",
        "outputId": "8908348f-3667-46a6-9f9e-359d2ec56c66"
      },
      "source": [
        "print(iris.feature_names)"
      ],
      "execution_count": null,
      "outputs": [
        {
          "output_type": "stream",
          "text": [
            "['sepal length (cm)', 'sepal width (cm)', 'petal length (cm)', 'petal width (cm)']\n"
          ],
          "name": "stdout"
        }
      ]
    },
    {
      "cell_type": "code",
      "metadata": {
        "colab": {
          "base_uri": "https://localhost:8080/"
        },
        "id": "QoC8bYTt-Cjd",
        "outputId": "a119847f-a518-4f7d-a659-212497b1ba33"
      },
      "source": [
        "print(iris.target_names)"
      ],
      "execution_count": null,
      "outputs": [
        {
          "output_type": "stream",
          "text": [
            "['setosa' 'versicolor' 'virginica']\n"
          ],
          "name": "stdout"
        }
      ]
    },
    {
      "cell_type": "code",
      "metadata": {
        "colab": {
          "base_uri": "https://localhost:8080/"
        },
        "id": "zfOlJAlz-KMV",
        "outputId": "ef9350e1-635a-44c9-e716-f171e9b5cb50"
      },
      "source": [
        "print(iris.data[0])"
      ],
      "execution_count": null,
      "outputs": [
        {
          "output_type": "stream",
          "text": [
            "[5.1 3.5 1.4 0.2]\n"
          ],
          "name": "stdout"
        }
      ]
    },
    {
      "cell_type": "code",
      "metadata": {
        "colab": {
          "base_uri": "https://localhost:8080/"
        },
        "id": "H3I_p6zs-VwO",
        "outputId": "d8d62e45-dc84-46e8-988a-7a0b285fd8f3"
      },
      "source": [
        "print(iris.data[1])"
      ],
      "execution_count": null,
      "outputs": [
        {
          "output_type": "stream",
          "text": [
            "[4.9 3.  1.4 0.2]\n"
          ],
          "name": "stdout"
        }
      ]
    },
    {
      "cell_type": "code",
      "metadata": {
        "colab": {
          "base_uri": "https://localhost:8080/"
        },
        "id": "AXQcx11K-Yet",
        "outputId": "436b7d30-c0f0-4229-ce5c-60883068cb65"
      },
      "source": [
        "print(iris.target[0])"
      ],
      "execution_count": null,
      "outputs": [
        {
          "output_type": "stream",
          "text": [
            "0\n"
          ],
          "name": "stdout"
        }
      ]
    },
    {
      "cell_type": "code",
      "metadata": {
        "colab": {
          "base_uri": "https://localhost:8080/"
        },
        "id": "L0F9hC2X-hi7",
        "outputId": "3cd63242-de8a-4467-a619-5ba45a568460"
      },
      "source": [
        "for i in range(52):\n",
        "  print('features :',iris.data[i])\n",
        "  print('the target flower :',iris.target_names[iris.target[i]],'\\n')"
      ],
      "execution_count": null,
      "outputs": [
        {
          "output_type": "stream",
          "text": [
            "features : [5.1 3.5 1.4 0.2]\n",
            "the target flower : setosa \n",
            "\n",
            "features : [4.9 3.  1.4 0.2]\n",
            "the target flower : setosa \n",
            "\n",
            "features : [4.7 3.2 1.3 0.2]\n",
            "the target flower : setosa \n",
            "\n",
            "features : [4.6 3.1 1.5 0.2]\n",
            "the target flower : setosa \n",
            "\n",
            "features : [5.  3.6 1.4 0.2]\n",
            "the target flower : setosa \n",
            "\n",
            "features : [5.4 3.9 1.7 0.4]\n",
            "the target flower : setosa \n",
            "\n",
            "features : [4.6 3.4 1.4 0.3]\n",
            "the target flower : setosa \n",
            "\n",
            "features : [5.  3.4 1.5 0.2]\n",
            "the target flower : setosa \n",
            "\n",
            "features : [4.4 2.9 1.4 0.2]\n",
            "the target flower : setosa \n",
            "\n",
            "features : [4.9 3.1 1.5 0.1]\n",
            "the target flower : setosa \n",
            "\n",
            "features : [5.4 3.7 1.5 0.2]\n",
            "the target flower : setosa \n",
            "\n",
            "features : [4.8 3.4 1.6 0.2]\n",
            "the target flower : setosa \n",
            "\n",
            "features : [4.8 3.  1.4 0.1]\n",
            "the target flower : setosa \n",
            "\n",
            "features : [4.3 3.  1.1 0.1]\n",
            "the target flower : setosa \n",
            "\n",
            "features : [5.8 4.  1.2 0.2]\n",
            "the target flower : setosa \n",
            "\n",
            "features : [5.7 4.4 1.5 0.4]\n",
            "the target flower : setosa \n",
            "\n",
            "features : [5.4 3.9 1.3 0.4]\n",
            "the target flower : setosa \n",
            "\n",
            "features : [5.1 3.5 1.4 0.3]\n",
            "the target flower : setosa \n",
            "\n",
            "features : [5.7 3.8 1.7 0.3]\n",
            "the target flower : setosa \n",
            "\n",
            "features : [5.1 3.8 1.5 0.3]\n",
            "the target flower : setosa \n",
            "\n",
            "features : [5.4 3.4 1.7 0.2]\n",
            "the target flower : setosa \n",
            "\n",
            "features : [5.1 3.7 1.5 0.4]\n",
            "the target flower : setosa \n",
            "\n",
            "features : [4.6 3.6 1.  0.2]\n",
            "the target flower : setosa \n",
            "\n",
            "features : [5.1 3.3 1.7 0.5]\n",
            "the target flower : setosa \n",
            "\n",
            "features : [4.8 3.4 1.9 0.2]\n",
            "the target flower : setosa \n",
            "\n",
            "features : [5.  3.  1.6 0.2]\n",
            "the target flower : setosa \n",
            "\n",
            "features : [5.  3.4 1.6 0.4]\n",
            "the target flower : setosa \n",
            "\n",
            "features : [5.2 3.5 1.5 0.2]\n",
            "the target flower : setosa \n",
            "\n",
            "features : [5.2 3.4 1.4 0.2]\n",
            "the target flower : setosa \n",
            "\n",
            "features : [4.7 3.2 1.6 0.2]\n",
            "the target flower : setosa \n",
            "\n",
            "features : [4.8 3.1 1.6 0.2]\n",
            "the target flower : setosa \n",
            "\n",
            "features : [5.4 3.4 1.5 0.4]\n",
            "the target flower : setosa \n",
            "\n",
            "features : [5.2 4.1 1.5 0.1]\n",
            "the target flower : setosa \n",
            "\n",
            "features : [5.5 4.2 1.4 0.2]\n",
            "the target flower : setosa \n",
            "\n",
            "features : [4.9 3.1 1.5 0.2]\n",
            "the target flower : setosa \n",
            "\n",
            "features : [5.  3.2 1.2 0.2]\n",
            "the target flower : setosa \n",
            "\n",
            "features : [5.5 3.5 1.3 0.2]\n",
            "the target flower : setosa \n",
            "\n",
            "features : [4.9 3.6 1.4 0.1]\n",
            "the target flower : setosa \n",
            "\n",
            "features : [4.4 3.  1.3 0.2]\n",
            "the target flower : setosa \n",
            "\n",
            "features : [5.1 3.4 1.5 0.2]\n",
            "the target flower : setosa \n",
            "\n",
            "features : [5.  3.5 1.3 0.3]\n",
            "the target flower : setosa \n",
            "\n",
            "features : [4.5 2.3 1.3 0.3]\n",
            "the target flower : setosa \n",
            "\n",
            "features : [4.4 3.2 1.3 0.2]\n",
            "the target flower : setosa \n",
            "\n",
            "features : [5.  3.5 1.6 0.6]\n",
            "the target flower : setosa \n",
            "\n",
            "features : [5.1 3.8 1.9 0.4]\n",
            "the target flower : setosa \n",
            "\n",
            "features : [4.8 3.  1.4 0.3]\n",
            "the target flower : setosa \n",
            "\n",
            "features : [5.1 3.8 1.6 0.2]\n",
            "the target flower : setosa \n",
            "\n",
            "features : [4.6 3.2 1.4 0.2]\n",
            "the target flower : setosa \n",
            "\n",
            "features : [5.3 3.7 1.5 0.2]\n",
            "the target flower : setosa \n",
            "\n",
            "features : [5.  3.3 1.4 0.2]\n",
            "the target flower : setosa \n",
            "\n",
            "features : [7.  3.2 4.7 1.4]\n",
            "the target flower : versicolor \n",
            "\n",
            "features : [6.4 3.2 4.5 1.5]\n",
            "the target flower : versicolor \n",
            "\n"
          ],
          "name": "stdout"
        }
      ]
    },
    {
      "cell_type": "code",
      "metadata": {
        "id": "m3Dys7tl_O5h"
      },
      "source": [
        "# lets take the first params from the data set for each flower\n",
        "test = [0,50,100]\n"
      ],
      "execution_count": null,
      "outputs": []
    },
    {
      "cell_type": "code",
      "metadata": {
        "colab": {
          "base_uri": "https://localhost:8080/"
        },
        "id": "LX_CP7dkBoBN",
        "outputId": "fa1a63d9-10dd-4340-8a92-2707df8cea97"
      },
      "source": [
        "# lets train the data\n",
        "train_target = np.delete(iris.target, test)\n",
        "train_data = np.delete(iris.data, test, axis=0)\n",
        "test_target = iris.target[test]\n",
        "test_data = iris.data[test]\n",
        "clf = tree.DecisionTreeClassifier()\n",
        "clf.fit(train_data, train_target)"
      ],
      "execution_count": null,
      "outputs": [
        {
          "output_type": "execute_result",
          "data": {
            "text/plain": [
              "DecisionTreeClassifier(ccp_alpha=0.0, class_weight=None, criterion='gini',\n",
              "                       max_depth=None, max_features=None, max_leaf_nodes=None,\n",
              "                       min_impurity_decrease=0.0, min_impurity_split=None,\n",
              "                       min_samples_leaf=1, min_samples_split=2,\n",
              "                       min_weight_fraction_leaf=0.0, presort='deprecated',\n",
              "                       random_state=None, splitter='best')"
            ]
          },
          "metadata": {
            "tags": []
          },
          "execution_count": 23
        }
      ]
    },
    {
      "cell_type": "code",
      "metadata": {
        "colab": {
          "base_uri": "https://localhost:8080/"
        },
        "id": "fGdEEF8JC-zh",
        "outputId": "cd8fd1a4-efc8-4f89-a30e-05a434aba18a"
      },
      "source": [
        "print(test_data)"
      ],
      "execution_count": null,
      "outputs": [
        {
          "output_type": "stream",
          "text": [
            "[[5.1 3.5 1.4 0.2]\n",
            " [7.  3.2 4.7 1.4]\n",
            " [6.3 3.3 6.  2.5]]\n"
          ],
          "name": "stdout"
        }
      ]
    },
    {
      "cell_type": "code",
      "metadata": {
        "colab": {
          "base_uri": "https://localhost:8080/"
        },
        "id": "vonYYmG2DUAf",
        "outputId": "a779856c-d7c8-4486-a8b1-ff437ca7fe94"
      },
      "source": [
        "print(clf.predict(test_data))"
      ],
      "execution_count": null,
      "outputs": [
        {
          "output_type": "stream",
          "text": [
            "[0 1 2]\n"
          ],
          "name": "stdout"
        }
      ]
    },
    {
      "cell_type": "code",
      "metadata": {
        "id": "mNouifXlDsc3"
      },
      "source": [
        ""
      ],
      "execution_count": null,
      "outputs": []
    }
  ]
}